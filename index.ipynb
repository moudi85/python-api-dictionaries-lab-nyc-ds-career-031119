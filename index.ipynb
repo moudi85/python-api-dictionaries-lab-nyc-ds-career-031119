{
 "cells": [
  {
   "cell_type": "markdown",
   "metadata": {},
   "source": [
    "# API Exercises"
   ]
  },
  {
   "cell_type": "markdown",
   "metadata": {},
   "source": [
    "Here are two exercises that involve working with APIs and dictionaries.\n",
    "\n",
    "One is using the Open Brewery API found at https://www.openbrewerydb.org/, and the other is using the API for UK Police Data, found at https://data.police.uk/docs/.\n",
    "\n",
    "You can complete them in either order!\n",
    "\n",
    "Remember that you can create new cells with esc + a or b"
   ]
  },
  {
   "cell_type": "markdown",
   "metadata": {},
   "source": [
    "## Breweries"
   ]
  },
  {
   "cell_type": "markdown",
   "metadata": {},
   "source": [
    "### Q1: Load the first page of results with 50 results per page"
   ]
  },
  {
   "cell_type": "code",
   "execution_count": 2,
   "metadata": {},
   "outputs": [
    {
     "data": {
      "text/plain": [
       "[{'id': 2,\n",
       "  'name': 'Avondale Brewing Co',\n",
       "  'brewery_type': 'micro',\n",
       "  'street': '201 41st St S',\n",
       "  'city': 'Birmingham',\n",
       "  'state': 'Alabama',\n",
       "  'postal_code': '35222-1932',\n",
       "  'country': 'United States',\n",
       "  'longitude': '-86.774322',\n",
       "  'latitude': '33.524521',\n",
       "  'phone': '2057775456',\n",
       "  'website_url': 'http://www.avondalebrewing.com',\n",
       "  'updated_at': '2018-08-23T23:19:57.825Z',\n",
       "  'tag_list': []},\n",
       " {'id': 4,\n",
       "  'name': 'Band of Brothers Brewing Company',\n",
       "  'brewery_type': 'micro',\n",
       "  'street': '1605 23rd Ave',\n",
       "  'city': 'Tuscaloosa',\n",
       "  'state': 'Alabama',\n",
       "  'postal_code': '35401-4653',\n",
       "  'country': 'United States',\n",
       "  'longitude': '-87.5621551272424',\n",
       "  'latitude': '33.1984907123707',\n",
       "  'phone': '2052665137',\n",
       "  'website_url': 'http://www.bandofbrosbrewing.com',\n",
       "  'updated_at': '2018-08-23T23:19:59.462Z',\n",
       "  'tag_list': []},\n",
       " {'id': 44,\n",
       "  'name': 'Trim Tab Brewing',\n",
       "  'brewery_type': 'micro',\n",
       "  'street': '2721 5th Ave S',\n",
       "  'city': 'Birmingham',\n",
       "  'state': 'Alabama',\n",
       "  'postal_code': '35233-3401',\n",
       "  'country': 'United States',\n",
       "  'longitude': '-86.7914000624146',\n",
       "  'latitude': '33.5128492349817',\n",
       "  'phone': '2057030536',\n",
       "  'website_url': 'http://www.trimtabbrewing.com',\n",
       "  'updated_at': '2018-08-23T23:20:31.423Z',\n",
       "  'tag_list': []}]"
      ]
     },
     "execution_count": 2,
     "metadata": {},
     "output_type": "execute_result"
    }
   ],
   "source": [
    "import requests\n",
    "url = 'https://api.openbrewerydb.org/breweries?page=1&per_page=50'\n",
    "r = requests.get(url)\n",
    "data = r.json()\n",
    "data[:3]"
   ]
  },
  {
   "cell_type": "markdown",
   "metadata": {},
   "source": [
    "### Q2: This is only the first 50 results.  Get the next 50 and put them together."
   ]
  },
  {
   "cell_type": "code",
   "execution_count": 3,
   "metadata": {},
   "outputs": [
    {
     "data": {
      "text/plain": [
       "100"
      ]
     },
     "execution_count": 3,
     "metadata": {},
     "output_type": "execute_result"
    }
   ],
   "source": [
    "url2 = 'https://api.openbrewerydb.org/breweries?page=2&per_page=50'\n",
    "r = requests.get(url2)\n",
    "data2 = r.json()\n",
    "full_data = data + data2\n",
    "len(full_data)\n"
   ]
  },
  {
   "cell_type": "markdown",
   "metadata": {},
   "source": [
    "### Q3: How many of these 100 breweries in are in Alaska?"
   ]
  },
  {
   "cell_type": "code",
   "execution_count": 4,
   "metadata": {},
   "outputs": [
    {
     "name": "stdout",
     "output_type": "stream",
     "text": [
      "3\n"
     ]
    }
   ],
   "source": [
    "c = 0\n",
    "for x in full_data:\n",
    "    if x['state'] == 'Alaska':\n",
    "        c += 1\n",
    "print( c)"
   ]
  },
  {
   "cell_type": "markdown",
   "metadata": {},
   "source": [
    "### Q4: Of these 100 breweries, what are the different unique brewery types?"
   ]
  },
  {
   "cell_type": "code",
   "execution_count": 5,
   "metadata": {},
   "outputs": [
    {
     "data": {
      "text/plain": [
       "{'brewpub', 'contract', 'micro', 'planning', 'proprietor', 'regional'}"
      ]
     },
     "execution_count": 5,
     "metadata": {},
     "output_type": "execute_result"
    }
   ],
   "source": [
    "set([x['brewery_type'] for x in full_data])\n"
   ]
  },
  {
   "cell_type": "markdown",
   "metadata": {},
   "source": [
    "### Q5: What is the cloest brewery to \"Devil's Potion Brewing Company LLC\" ?\n",
    "* Hint 1: Use Euclidian distance w/ longitude and latitude (assume longitude and latitude are a Carteisan coordinate system)\n",
    "* Hint 2: You'll have to ignore the entries with \"none\" for latitude or longitude"
   ]
  },
  {
   "cell_type": "code",
   "execution_count": 6,
   "metadata": {},
   "outputs": [
    {
     "name": "stdout",
     "output_type": "stream",
     "text": [
      "{'id': 525, 'name': \"Devil's Potion Brewing Company LLC\", 'brewery_type': 'planning', 'street': '', 'city': 'Escondido', 'state': 'California', 'postal_code': '92026-3187', 'country': 'United States', 'longitude': '-117.0814849', 'latitude': '33.1216751', 'phone': '7605329091', 'website_url': 'http://www.devilspotion.com', 'updated_at': '2018-08-23T23:27:21.742Z', 'tag_list': []}\n"
     ]
    }
   ],
   "source": [
    "for x in full_data:\n",
    "    if x['name'] == \"Devil's Potion Brewing Company LLC\":\n",
    "        print(x)\n"
   ]
  },
  {
   "cell_type": "markdown",
   "metadata": {},
   "source": [
    "### Q6: Write a function to find the closest brewery to any other given brewery"
   ]
  },
  {
   "cell_type": "code",
   "execution_count": 8,
   "metadata": {},
   "outputs": [],
   "source": [
    "lat1 = 33.1216751\n",
    "long1 = -117.0814849\n",
    "\n",
    "d = {}\n",
    "for x in full_data:\n",
    "    try:\n",
    "        distance = ((long1 - float(x['longitude'])) **2 + (lat1 - float(x['latitude']))**2)**0.5\n",
    "    except:\n",
    "        distance = 0\n",
    "    if distance > 0:\n",
    "        d[x['name']] = distance"
   ]
  },
  {
   "cell_type": "code",
   "execution_count": 10,
   "metadata": {},
   "outputs": [
    {
     "data": {
      "text/plain": [
       "'Port Brewing Co / The Lost Abbey'"
      ]
     },
     "execution_count": 10,
     "metadata": {},
     "output_type": "execute_result"
    }
   ],
   "source": [
    "min(d, key=d.get)"
   ]
  },
  {
   "cell_type": "code",
   "execution_count": 9,
   "metadata": {},
   "outputs": [],
   "source": [
    "def brew_distance(x):\n",
    "    for i in full_data:\n",
    "        if i['name'] == x:\n",
    "            lat1 = i['latitude']\n",
    "            long1 = i['longitude']\n",
    "    if lat1:\n",
    "        pass\n",
    "    else:\n",
    "        print('error')\n",
    "        return None\n",
    "    d = {}\n",
    "    for z in full_data:\n",
    "        try:\n",
    "            distance = ((float(long1) - float(z['longitude'])) **2 + (float(lat1) - float(z['latitude']))**2)**0.5\n",
    "        except:\n",
    "            distance = 0\n",
    "        if distance > 0:\n",
    "            d[z['name']] = distance\n",
    "    print(min(d, key=d.get))"
   ]
  },
  {
   "cell_type": "code",
   "execution_count": 11,
   "metadata": {},
   "outputs": [
    {
     "name": "stdout",
     "output_type": "stream",
     "text": [
      "error\n"
     ]
    }
   ],
   "source": [
    "brew_distance('Copper Hop Brewing Co/Copper Hop Ranch')"
   ]
  },
  {
   "cell_type": "code",
   "execution_count": 12,
   "metadata": {},
   "outputs": [
    {
     "name": "stdout",
     "output_type": "stream",
     "text": [
      "Urban Roots Brewing\n"
     ]
    }
   ],
   "source": [
    "brew_distance('Jackrabbit Brewing Co')"
   ]
  },
  {
   "cell_type": "markdown",
   "metadata": {},
   "source": [
    "### Q7: How would you get the first 10 pages from this API and put them all together using a for loop?"
   ]
  },
  {
   "cell_type": "code",
   "execution_count": 13,
   "metadata": {},
   "outputs": [
    {
     "data": {
      "text/plain": [
       "200"
      ]
     },
     "execution_count": 13,
     "metadata": {},
     "output_type": "execute_result"
    }
   ],
   "source": [
    "data = []\n",
    "for i in range(1,11):\n",
    "    url = 'https://api.openbrewerydb.org/breweries?page=' + str(i) + 'per_page=50'\n",
    "    r = requests.get(url)\n",
    "    data += r.json()\n",
    "len(data)"
   ]
  },
  {
   "cell_type": "markdown",
   "metadata": {},
   "source": [
    "# Crime in the UK"
   ]
  },
  {
   "cell_type": "markdown",
   "metadata": {},
   "source": [
    "### We will be analyzing different crimes reported in the UK as provided by https://data.police.uk/docs/"
   ]
  },
  {
   "cell_type": "markdown",
   "metadata": {},
   "source": [
    "# Exploratory analysis\n",
    "##### 1. How many total crimes were there at latitude : 52.63902 and -1.131321 on November of 2017.\n",
    "Use the street level crimes data, the documentation for the API can be found at https://data.police.uk/docs/method/crime-street/"
   ]
  },
  {
   "cell_type": "code",
   "execution_count": 14,
   "metadata": {},
   "outputs": [
    {
     "data": {
      "text/plain": [
       "1334"
      ]
     },
     "execution_count": 14,
     "metadata": {},
     "output_type": "execute_result"
    }
   ],
   "source": [
    "import json\n",
    "import requests\n",
    "response = requests.get('https://data.police.uk/api/crimes-street/all-crime?lat=52.63902&lng=-1.131321&date=2017-11')\n",
    "all_crimes = response.json()\n",
    "len(all_crimes)\n"
   ]
  },
  {
   "cell_type": "markdown",
   "metadata": {},
   "source": [
    "##### 2. We've queried the API once, but it could get annoying to retype the url over and over again, create a function `make_api_request` that enables you to query the API.\n",
    "\n",
    "\n",
    " The parameters for the function should be:\n",
    "* lat (float) : latitude\n",
    "* lng (float) : longitude\n",
    "* date (string): Date in the format YYYY-MM\n",
    "    * default value = `None`\n",
    "    \n",
    "And it should return a json object of \n",
    "\n",
    "for more information on default values check out http://blog.thedigitalcatonline.com/blog/2015/02/11/default-arguments-in-python/"
   ]
  },
  {
   "cell_type": "code",
   "execution_count": 15,
   "metadata": {},
   "outputs": [],
   "source": [
    "def make_api_request(lat,lng,date=None):\n",
    "    if date:\n",
    "        url = 'https://data.police.uk/api/crimes-street/all-crime?lat=' + str(lat) + '&lng=' + str(lng) + '&date=' + date \n",
    "    else :\n",
    "        url = 'https://data.police.uk/api/crimes-street/all-crime?lat=' + str(lat) + '&lng=' + str(lng)\n",
    "    response = requests.get(url)\n",
    "    return response.json()"
   ]
  },
  {
   "cell_type": "code",
   "execution_count": 16,
   "metadata": {},
   "outputs": [],
   "source": [
    "crimes = make_api_request(52.63902,-1.131321,'2017-11')"
   ]
  },
  {
   "cell_type": "code",
   "execution_count": 17,
   "metadata": {},
   "outputs": [
    {
     "data": {
      "text/plain": [
       "[{'category': 'anti-social-behaviour',\n",
       "  'location_type': 'Force',\n",
       "  'location': {'latitude': '52.650097',\n",
       "   'street': {'id': 884374, 'name': 'On or near Hildyard Road'},\n",
       "   'longitude': '-1.127933'},\n",
       "  'context': '',\n",
       "  'outcome_status': None,\n",
       "  'persistent_id': '',\n",
       "  'id': 61224501,\n",
       "  'location_subtype': '',\n",
       "  'month': '2017-11'},\n",
       " {'category': 'anti-social-behaviour',\n",
       "  'location_type': 'Force',\n",
       "  'location': {'latitude': '52.642605',\n",
       "   'street': {'id': 884219, 'name': 'On or near Marshall Street'},\n",
       "   'longitude': '-1.148492'},\n",
       "  'context': '',\n",
       "  'outcome_status': None,\n",
       "  'persistent_id': '',\n",
       "  'id': 61224504,\n",
       "  'location_subtype': '',\n",
       "  'month': '2017-11'},\n",
       " {'category': 'anti-social-behaviour',\n",
       "  'location_type': 'Force',\n",
       "  'location': {'latitude': '52.642605',\n",
       "   'street': {'id': 884219, 'name': 'On or near Marshall Street'},\n",
       "   'longitude': '-1.148492'},\n",
       "  'context': '',\n",
       "  'outcome_status': None,\n",
       "  'persistent_id': '',\n",
       "  'id': 61224516,\n",
       "  'location_subtype': '',\n",
       "  'month': '2017-11'}]"
      ]
     },
     "execution_count": 17,
     "metadata": {},
     "output_type": "execute_result"
    }
   ],
   "source": [
    "crimes[:3]"
   ]
  },
  {
   "cell_type": "markdown",
   "metadata": {},
   "source": [
    "##### 3. Write a function `categories_of_crime` that will determine the count of each type of crime for a given latitude and longitude. This is labelled as 'category' in the records. Your function should call the `make_api_request` function you created.\n",
    "\n",
    "The parameters for the function should be:\n",
    "\n",
    "* lat (float) : latitude\n",
    "* lng (float) : longitude\n",
    "* date (str) default = None\n",
    "\n",
    "The function should return:\n",
    "* a dictionary with the count of each type of crime\n",
    "\n",
    "\n",
    "\n",
    "Once you've created the function, try it with these locations\n",
    "* lat, lng of 51.5017861,-0.1432319   (Buckingham Palace)\n",
    "* lat, lng of 53.480161, -2.245163     (Manchester)"
   ]
  },
  {
   "cell_type": "code",
   "execution_count": 18,
   "metadata": {},
   "outputs": [],
   "source": [
    "\n",
    "buckingham = (51.5017861,-0.1432319)\n",
    "edinburgh = (55.948811,-3.197982)\n",
    "manchester = (53.480161,-2.245163)"
   ]
  },
  {
   "cell_type": "markdown",
   "metadata": {},
   "source": [
    "**Bonus**: \n",
    "* Write a function that determines the difference between Buckingham Palace and Manchester in terms of the number of crimes in each category.\n",
    "    * In which category is there the largest absolute difference between the category of crime?\n",
    "* Create a histogram depiction of the categories of crime"
   ]
  },
  {
   "cell_type": "code",
   "execution_count": 19,
   "metadata": {},
   "outputs": [],
   "source": [
    "\n",
    "def categories_of_crime(lat,lng,date = None):\n",
    "    crimes = make_api_request(lat,lng,date)\n",
    "    category_dict = {}\n",
    "    for crime in crimes:\n",
    "        if crime['category'] in category_dict:\n",
    "            category_dict[crime['category']] +=1\n",
    "        else:\n",
    "            category_dict[crime['category']] = 1\n",
    "    return category_dict"
   ]
  },
  {
   "cell_type": "code",
   "execution_count": 20,
   "metadata": {},
   "outputs": [
    {
     "name": "stdout",
     "output_type": "stream",
     "text": [
      "Buckingham Palace crime categories: {'anti-social-behaviour': 596, 'bicycle-theft': 57, 'burglary': 119, 'criminal-damage-arson': 79, 'drugs': 108, 'other-theft': 1346, 'possession-of-weapons': 13, 'public-order': 136, 'robbery': 220, 'shoplifting': 283, 'theft-from-the-person': 1199, 'vehicle-crime': 141, 'violent-crime': 442, 'other-crime': 14}\n"
     ]
    }
   ],
   "source": [
    "buck_categories = categories_of_crime(buckingham[0],buckingham[1])\n",
    "print('Buckingham Palace crime categories:',buck_categories)"
   ]
  },
  {
   "cell_type": "code",
   "execution_count": 23,
   "metadata": {},
   "outputs": [
    {
     "name": "stdout",
     "output_type": "stream",
     "text": [
      "Edinburgh Castle crime categories {}\n"
     ]
    }
   ],
   "source": [
    "edin_categories = categories_of_crime(edinburgh[0],edinburgh[1])\n",
    "print('Edinburgh Castle crime categories',edin_categories)"
   ]
  },
  {
   "cell_type": "code",
   "execution_count": 22,
   "metadata": {},
   "outputs": [
    {
     "name": "stdout",
     "output_type": "stream",
     "text": [
      "{'anti-social-behaviour': 453, 'bicycle-theft': 35, 'burglary': 100, 'criminal-damage-arson': 124, 'drugs': 82, 'other-theft': 286, 'possession-of-weapons': 22, 'public-order': 262, 'robbery': 108, 'shoplifting': 130, 'theft-from-the-person': 336, 'vehicle-crime': 218, 'violent-crime': 512, 'other-crime': 75}\n"
     ]
    }
   ],
   "source": [
    "manch_categories = categories_of_crime(manchester[0],manchester[1])\n",
    "print(manch_categories)"
   ]
  },
  {
   "cell_type": "markdown",
   "metadata": {},
   "source": [
    "##### 4. Create a function `find_outcome_statuses` that will determine outcome statuses for a given latitude and longitude and date (optional)?\n",
    "Investigate the data to determine where the outcome statuses are located.\n",
    "\n",
    "**NOTE**: You'll notice that some of these crimes do not have crime outcomes. Make these into the category of \"Not Resolved.\"\n",
    "\n",
    "**NOTE 2**: These might take a long time to execute if you do not specify a month\n",
    "\n",
    "**Bonus**: What is the ratio of crimes investigated to those not investigated? Is it higher near London or Manchester?"
   ]
  },
  {
   "cell_type": "code",
   "execution_count": 24,
   "metadata": {},
   "outputs": [],
   "source": [
    "from collections import Counter\n",
    "\n",
    "def find_outcome_statuses(lat,lng,date=None):\n",
    "    outcome_status = []\n",
    "    crimes = make_api_request(lat,lng,date)\n",
    "    for crime in crimes:\n",
    "        if crime['outcome_status']:\n",
    "            outcome_status.append(crime['outcome_status']['category'])\n",
    "        else:\n",
    "            outcome_status.append('Not Resolved')\n",
    "    d = Counter(outcome_status)    \n",
    "    return d"
   ]
  },
  {
   "cell_type": "code",
   "execution_count": null,
   "metadata": {},
   "outputs": [],
   "source": [
    "buck_outcomes = find_outcome_statuses(buckingham[0],buckingham[1])\n",
    "print(buck_outcomes)"
   ]
  },
  {
   "cell_type": "markdown",
   "metadata": {},
   "source": [
    "##### 5. Write a function `month_highest_crimes` that will return the month that had the highest number of crimes for a latitude, longitude and a year.\n",
    "\n",
    "Inputs\n",
    "* lat (float) : latitude\n",
    "* lng (float) : longitude\n",
    "* year (str) : in the format YYYY\n",
    "\n",
    "Output\n",
    "* month with highest crime (int)\n",
    "\n",
    "**Bonus** Make a graph of how the number of crimes changed over time for a year. This will likely require a new function. Is seasonality a factor? Do the type of crimes change over time?"
   ]
  },
  {
   "cell_type": "code",
   "execution_count": null,
   "metadata": {},
   "outputs": [],
   "source": [
    "\n"
   ]
  },
  {
   "cell_type": "markdown",
   "metadata": {},
   "source": [
    "### Bonus Open Ended Questions\n",
    "\n",
    "1. Take a look at the https://data.police.uk/docs/method/stops-street/ API. Is there a correlation between gender and being stopped and searched? How about race and being stopped and searched?"
   ]
  },
  {
   "cell_type": "code",
   "execution_count": null,
   "metadata": {},
   "outputs": [],
   "source": [
    "\n"
   ]
  }
 ],
 "metadata": {
  "kernelspec": {
   "display_name": "Python 3",
   "language": "python",
   "name": "python3"
  },
  "language_info": {
   "codemirror_mode": {
    "name": "ipython",
    "version": 3
   },
   "file_extension": ".py",
   "mimetype": "text/x-python",
   "name": "python",
   "nbconvert_exporter": "python",
   "pygments_lexer": "ipython3",
   "version": "3.6.6"
  }
 },
 "nbformat": 4,
 "nbformat_minor": 2
}
